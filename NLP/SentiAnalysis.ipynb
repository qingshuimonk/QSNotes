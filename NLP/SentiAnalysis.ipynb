{
 "cells": [
  {
   "cell_type": "markdown",
   "metadata": {},
   "source": [
    "# Lit Review\n",
    "## [Multi-task Multi-label](http://delivery.acm.org/10.1145/2470000/2464512/p172-huang.pdf?ip=152.3.34.5&id=2464512&acc=ACTIVE%20SERVICE&key=7777116298C9657D%2E18C4EEC63BFE39A6%2E4D4702B0C3E38B35%2E4D4702B0C3E38B35&CFID=853433767&CFTOKEN=38390128&__acm__=1478793223_792a5e91e2a2601f0fab0575bcd98eb6)\n",
    "1. Focused on getting sentiment and topic at the same time, tweet topics and sentiments are not completely independent\n",
    "2. The sentiment classes are  \n",
    "   * positive\n",
    "   * negative\n",
    "   * neutral  \n",
    "3. The topic classes include  \n",
    "   * Care/Support\n",
    "   * Lead/Referral\n",
    "   * Mention\n",
    "   * Promotion\n",
    "   * Review\n",
    "   * Complaint\n",
    "   * Inquiry/Question\n",
    "   * Compliment\n",
    "   * News\n",
    "   * Company/Brand\n",
    "4. Multi-Task Classification\n",
    "## [n-gram SA](https://www.researchgate.net/publication/254002881_Sentiment_analysis_of_social_media_content_using_N-Gram_graphs)\n",
    "1. **Term Frequency**: #term occurs in specific document\n",
    "2. **Inverse Document Frequency**: $DF_i=\\frac{|T|}{|\\{t:w_i\\in t \\cap t \\in T\\}|}$\n",
    "3. N-gram advantage: \n",
    ">by considering substrings instead of entire words, the likelihood of serious spelling mistakes is significantly      >reduced\n",
    "4. N-gram graph:\n",
    "    * nodes: distinct n-grams\n",
    "    * edges: weighted proportionally to average distance\n",
    "    * Three parameters:\n",
    "        1. minimum n-gram rank $L_{min}$\n",
    "        2. "
   ]
  },
  {
   "cell_type": "code",
   "execution_count": null,
   "metadata": {
    "collapsed": true
   },
   "outputs": [],
   "source": []
  }
 ],
 "metadata": {
  "anaconda-cloud": {},
  "kernelspec": {
   "display_name": "Python [conda env:bhplayground]",
   "language": "python",
   "name": "conda-env-bhplayground-py"
  },
  "language_info": {
   "codemirror_mode": {
    "name": "ipython",
    "version": 2
   },
   "file_extension": ".py",
   "mimetype": "text/x-python",
   "name": "python",
   "nbconvert_exporter": "python",
   "pygments_lexer": "ipython2",
   "version": "2.7.12"
  }
 },
 "nbformat": 4,
 "nbformat_minor": 0
}
