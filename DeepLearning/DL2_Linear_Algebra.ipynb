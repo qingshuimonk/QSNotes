{
 "cells": [
  {
   "cell_type": "markdown",
   "metadata": {},
   "source": [
    "# Chap2 Linear Algebra"
   ]
  },
  {
   "cell_type": "markdown",
   "metadata": {},
   "source": [
    "- Scalars: just a single number\n",
    "- Vectors: an array of numbers\n",
    "- Matrices: 2-D array of numbers\n",
    "- Tensors: arry on a regular grid with a number of axes"
   ]
  },
  {
   "cell_type": "markdown",
   "metadata": {},
   "source": [
    "### Broadcasting"
   ]
  },
  {
   "cell_type": "markdown",
   "metadata": {},
   "source": [
    "$\\mathbf{C}=\\mathbf{A}+\\mathbf{b}$  \n",
    "$\\mathbf{b}$ is added to each row of the matrix"
   ]
  },
  {
   "cell_type": "markdown",
   "metadata": {},
   "source": [
    "### Span"
   ]
  },
  {
   "cell_type": "markdown",
   "metadata": {},
   "source": [
    "**Linear combination**: $\\sum_ic_iv^{(i)}$  \n",
    "The span of a set of vectors is the set of all points obtainable by linear combination of the original vectors "
   ]
  },
  {
   "cell_type": "markdown",
   "metadata": {},
   "source": [
    "**Linear independent**: no vector in the set is linear combination of other vectors"
   ]
  },
  {
   "cell_type": "markdown",
   "metadata": {},
   "source": [
    "For $\\mathbf{Ax}=\\mathbf{b}$ where $A\\in \\mathbb{R}^{m*n}$, $b\\in \\mathbb{R}^m$ and $x\\in \\mathbb{R}^n$ to have a solution"
   ]
  },
  {
   "cell_type": "markdown",
   "metadata": {},
   "source": [
    "1. $n\\ge m$ (necessary but not sufficient)\n",
    "2. $\\mathbf{A}$ has at least a set of m (exactly) linearly independent columns (necessary and sufficient)"
   ]
  },
  {
   "cell_type": "markdown",
   "metadata": {},
   "source": [
    "**Singular**: a square matrix with linearly dependent columns"
   ]
  },
  {
   "cell_type": "markdown",
   "metadata": {},
   "source": [
    "### Norms"
   ]
  },
  {
   "cell_type": "markdown",
   "metadata": {},
   "source": [
    "$L^p$ norm: $||x||_p=(\\sum_i|x_i|^p)^\\frac{1}{p}$ -> mapping vector to non-negative value"
   ]
  },
  {
   "cell_type": "markdown",
   "metadata": {},
   "source": [
    "$L^2$ norm oftern notted with 2 omitted: $||x||$. Can be calculated as $x^Tx$. <- Grow slowly near 0"
   ]
  },
  {
   "cell_type": "markdown",
   "metadata": {},
   "source": [
    "max norm: $||x||_\\infty=max_i|x_i|$, the absolute value of the element with largest magnitude in the vector"
   ]
  },
  {
   "cell_type": "markdown",
   "metadata": {},
   "source": [
    "**Frobenius norm**(measure the size of a matrix): $||A||_F=\\sqrt{\\sum_{i,j}A_{i,j}^2}$"
   ]
  },
  {
   "cell_type": "markdown",
   "metadata": {},
   "source": [
    "Orthogonal matrix: rows & columns are **orthonormal**  \n",
    "This gives $A^{-1}=A^T$"
   ]
  },
  {
   "cell_type": "markdown",
   "metadata": {},
   "source": [
    "### Eigen Decomposition"
   ]
  },
  {
   "cell_type": "markdown",
   "metadata": {},
   "source": [
    "**Eigenvector**:   \n",
    "non-zero vector $v$ such that $\\mathbf{Av}=\\lambda \\mathbf{v}$ ($\\lambda$ is the eigen value)"
   ]
  },
  {
   "cell_type": "markdown",
   "metadata": {},
   "source": [
    "**Eigen decomposition**: $\\mathbf{A}=\\mathbf{V}diag(\\lambda)\\mathbf{V}^{-1}$ "
   ]
  },
  {
   "cell_type": "markdown",
   "metadata": {},
   "source": [
    "The matrix is **singular** if and only if any eigen values are zero"
   ]
  },
  {
   "cell_type": "markdown",
   "metadata": {},
   "source": [
    "- positive definite: all eigenvalues are positive\n",
    "- positive semidefinite: all eigenvalues are postive or zero\n",
    "- negative definite: all eigenvalues are negative\n",
    "- negative semidefinite: all eigenvalues are negative or zero"
   ]
  },
  {
   "cell_type": "markdown",
   "metadata": {},
   "source": [
    "real symmetric matrix is guarantedd to have an eigendecompostion"
   ]
  },
  {
   "cell_type": "markdown",
   "metadata": {},
   "source": [
    "### Singular Value Decomposition"
   ]
  },
  {
   "cell_type": "markdown",
   "metadata": {},
   "source": [
    "real matrix has a SVD"
   ]
  },
  {
   "cell_type": "markdown",
   "metadata": {},
   "source": [
    "$\\mathbf{A}=\\mathbf{UDV}^T$"
   ]
  },
  {
   "cell_type": "markdown",
   "metadata": {},
   "source": [
    "- $\\mathbf{A}$ is $m*n$, $\\mathbf{U}$ is $m*m$, $\\mathbf{V}$ is $n*n$\n",
    "- $\\mathbf{U}$ and $\\mathbf{V}$ are orthogonal, $\\mathbf{D}$ is diagonal (not necessarily square)"
   ]
  },
  {
   "cell_type": "markdown",
   "metadata": {},
   "source": [
    "### Moore-Penrose Pseudoinverse"
   ]
  },
  {
   "cell_type": "markdown",
   "metadata": {},
   "source": [
    "Computed as: $\\mathbf{A}^+=\\mathbf{VD}^+\\mathbf{U}^T$"
   ]
  },
  {
   "cell_type": "markdown",
   "metadata": {},
   "source": [
    "$\\mathbf{U},\\mathbf{D}$ and $\\mathbf{V}$ are singular decomposition of A, $\\mathbf{D}^+$ is the taking reciprocal of non-zero elements in $\\mathbf{D}$ and transpose the resulting matrix"
   ]
  },
  {
   "cell_type": "markdown",
   "metadata": {},
   "source": [
    "### Trace Operator"
   ]
  },
  {
   "cell_type": "markdown",
   "metadata": {},
   "source": [
    "Frobenius can be defined as $||\\mathbf{A}||_F=\\sqrt{Tr(\\mathbf{AA}^T)}$"
   ]
  },
  {
   "cell_type": "markdown",
   "metadata": {},
   "source": [
    "### Determinant"
   ]
  },
  {
   "cell_type": "markdown",
   "metadata": {},
   "source": [
    "Product of all eigenvalues of the matrix"
   ]
  },
  {
   "cell_type": "markdown",
   "metadata": {},
   "source": [
    "The absolute value of determinant can be thought of as a measure of how much multiplication by the matrix expands or contracts space"
   ]
  },
  {
   "cell_type": "markdown",
   "metadata": {},
   "source": [
    "### Principal Components Analysis"
   ]
  },
  {
   "cell_type": "markdown",
   "metadata": {},
   "source": [
    "Encoder: $\\mathbf{D}$ such that $f(x)=\\mathbf{D^T}x$ and $r(x)=\\mathbf{DD}^Tx$ for reconstruction"
   ]
  },
  {
   "cell_type": "markdown",
   "metadata": {},
   "source": [
    "Solve $\\mathbf{D}^*=argmin_\\mathbf{D}\\sqrt{\\sum_{i,j}(x_j^{i}-r(x^{(i)})_j)^2}$, subject to $\\mathbf{D}^T\\mathbf{D}=\\mathbf{I}_l$"
   ]
  },
  {
   "cell_type": "markdown",
   "metadata": {},
   "source": [
    "The principle components is the largest l eigenvectors corresponding to the largest eigenvalues of $\\mathbf{X}^T\\mathbf{X}$"
   ]
  },
  {
   "cell_type": "markdown",
   "metadata": {},
   "source": [
    "[An explanation](http://blog.codinglabs.org/articles/pca-tutorial.html)  \n",
    "[The implementation of code](http://blog.csdn.net/ksearch/article/details/22871303#)"
   ]
  },
  {
   "cell_type": "code",
   "execution_count": 1,
   "metadata": {
    "collapsed": false
   },
   "outputs": [
    {
     "name": "stderr",
     "output_type": "stream",
     "text": [
      "/Users/BohaoHuang/anaconda2/envs/bhplayground/lib/python2.7/site-packages/matplotlib/font_manager.py:273: UserWarning: Matplotlib is building the font cache using fc-list. This may take a moment.\n",
      "  warnings.warn('Matplotlib is building the font cache using fc-list. This may take a moment.')\n"
     ]
    }
   ],
   "source": [
    "from __future__ import division \n",
    "import numpy as np\n",
    "import matplotlib.pyplot as plt\n",
    "% matplotlib inline\n",
    "from sklearn.preprocessing import normalize"
   ]
  },
  {
   "cell_type": "code",
   "execution_count": 2,
   "metadata": {
    "collapsed": false
   },
   "outputs": [],
   "source": [
    "mu = np.array([1, 3])\n",
    "cov = np.array([[1, 0.5], [1.5, 1]])\n",
    "data = np.random.multivariate_normal(mu, cov, 1000).T\n",
    "data_mean = np.mean(data, axis=1)\n",
    "X = data - data_mean.reshape(2,1)"
   ]
  },
  {
   "cell_type": "code",
   "execution_count": 3,
   "metadata": {
    "collapsed": false
   },
   "outputs": [],
   "source": [
    "# PCA function\n",
    "def bh_pca(X):\n",
    "    (n, m) = data.shape\n",
    "    # get corresponding eigenvalues and eigenvectors\n",
    "    w, v = np.linalg.eig(np.cov(X))\n",
    "    # reorder\n",
    "    ind = np.argsort(w)\n",
    "    ind = ind[::-1]\n",
    "    # return corresponding eigenvalues and eigenvectors\n",
    "    eig_val = w[ind]\n",
    "    eig_vec = v[:,ind]\n",
    "    return (eig_val, eig_vec)"
   ]
  },
  {
   "cell_type": "code",
   "execution_count": 4,
   "metadata": {
    "collapsed": false
   },
   "outputs": [],
   "source": [
    "(eig_val, eig_vec) = bh_pca(X)"
   ]
  },
  {
   "cell_type": "code",
   "execution_count": 5,
   "metadata": {
    "collapsed": false
   },
   "outputs": [],
   "source": [
    "X1 = np.dot(eig_vec[:,0].T, X).reshape(1,-1)\n",
    "data_prime1 = np.dot(X1.T, eig_vec[:,0].T.reshape(1,-1)).T + data_mean.reshape(2,1)"
   ]
  },
  {
   "cell_type": "code",
   "execution_count": 6,
   "metadata": {
    "collapsed": false
   },
   "outputs": [],
   "source": [
    "X2 = np.dot(eig_vec[:,1].T, X).reshape(1,-1)\n",
    "data_prime2 = np.dot(X2.T, eig_vec[:,1].T.reshape(1,-1)).T + data_mean.reshape(2,1)"
   ]
  },
  {
   "cell_type": "code",
   "execution_count": 7,
   "metadata": {
    "collapsed": false
   },
   "outputs": [
    {
     "data": {
      "image/png": "[encoded data removed]",
      "text/plain": [
       "<matplotlib.figure.Figure at 0x10bef1790>"
      ]
     },
     "metadata": {},
     "output_type": "display_data"
    }
   ],
   "source": [
    "plt.plot(data[0,:], data[1,:],'.')\n",
    "plt.plot(data_prime1[0,:], data_prime1[1,:], label='1st component')\n",
    "plt.plot(data_prime2[0,:], data_prime2[1,:], label='2nd component')\n",
    "plt.title('A Demo of PCA')\n",
    "#plt.legend(loc='lower right')\n",
    "plt.axis('square')\n",
    "plt.show()"
   ]
  },
  {
   "cell_type": "code",
   "execution_count": null,
   "metadata": {
    "collapsed": true
   },
   "outputs": [],
   "source": []
  }
 ],
 "metadata": {
  "anaconda-cloud": {},
  "kernelspec": {
   "display_name": "Python [conda env:bhplayground]",
   "language": "python",
   "name": "conda-env-bhplayground-py"
  },
  "language_info": {
   "codemirror_mode": {
    "name": "ipython",
    "version": 2
   },
   "file_extension": ".py",
   "mimetype": "text/x-python",
   "name": "python",
   "nbconvert_exporter": "python",
   "pygments_lexer": "ipython2",
   "version": "2.7.12"
  }
 },
 "nbformat": 4,
 "nbformat_minor": 1
}
