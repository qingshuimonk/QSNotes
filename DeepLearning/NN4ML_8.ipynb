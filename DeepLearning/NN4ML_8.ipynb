{
 "cells": [
  {
   "cell_type": "markdown",
   "metadata": {},
   "source": [
    "# Neural Networks for Machine Learning (8)"
   ]
  },
  {
   "cell_type": "markdown",
   "metadata": {},
   "source": [
    "### Modeling Character Strings with Multiplicative Connections"
   ]
  },
  {
   "cell_type": "markdown",
   "metadata": {},
   "source": [
    "![](pics\\8-1-1.png)"
   ]
  },
  {
   "cell_type": "markdown",
   "metadata": {},
   "source": [
    "![](pics/8-1-2.png)"
   ]
  },
  {
   "cell_type": "markdown",
   "metadata": {},
   "source": [
    "###### Multiplicative connections"
   ]
  },
  {
   "cell_type": "markdown",
   "metadata": {},
   "source": [
    "Use character to determine hidden units' weights  \n",
    "- want 86 character-specific weight matrices share weights"
   ]
  },
  {
   "cell_type": "markdown",
   "metadata": {},
   "source": [
    "Use factors to implement multiplicative interactions\n",
    "![](pics\\8-1-3.png)"
   ]
  },
  {
   "cell_type": "markdown",
   "metadata": {},
   "source": [
    "![](pics/8-1-4.png)"
   ]
  },
  {
   "cell_type": "markdown",
   "metadata": {},
   "source": [
    "![](pics/8-1-5.png)"
   ]
  },
  {
   "cell_type": "markdown",
   "metadata": {},
   "source": [
    "### Echo State Networks"
   ]
  },
  {
   "cell_type": "markdown",
   "metadata": {},
   "source": [
    "###### Key idea of echo state networks"
   ]
  },
  {
   "cell_type": "markdown",
   "metadata": {},
   "source": [
    "1. random and fix early layers\n",
    "2. Then we just learn the last layer, which is a linear model of transformed inputs\n",
    "3. Equivalent idea:\n",
    " - fix input-hidden\n",
    " - random hidden-hidden\n",
    " - learn hidden-output"
   ]
  },
  {
   "cell_type": "markdown",
   "metadata": {},
   "source": [
    "###### Set random connections in an echo state network"
   ]
  },
  {
   "cell_type": "markdown",
   "metadata": {},
   "source": [
    "- set hidden-hidden weights so vector stays the same length -> echo around network for long tim\n",
    "- use sparse connectivity -> oscillates in subpart of net\n",
    "- choose scale carefully\n",
    "- learning is very fast, can try different scales"
   ]
  },
  {
   "cell_type": "markdown",
   "metadata": {},
   "source": [
    "###### Beyond echo state netwoks"
   ]
  },
  {
   "cell_type": "markdown",
   "metadata": {},
   "source": [
    "- good aspects:\n",
    " 1. trained very fast\n",
    " 2. initialize weights sensibly\n",
    " 3. impressive modeling of one-dimensional time-series\n",
    "- bas aspects:\n",
    " 1. need many more hidden units"
   ]
  },
  {
   "cell_type": "code",
   "execution_count": null,
   "metadata": {
    "collapsed": true
   },
   "outputs": [],
   "source": []
  }
 ],
 "metadata": {
  "anaconda-cloud": {},
  "kernelspec": {
   "display_name": "Python [conda env:bhplayground]",
   "language": "python",
   "name": "conda-env-bhplayground-py"
  },
  "language_info": {
   "codemirror_mode": {
    "name": "ipython",
    "version": 2
   },
   "file_extension": ".py",
   "mimetype": "text/x-python",
   "name": "python",
   "nbconvert_exporter": "python",
   "pygments_lexer": "ipython2",
   "version": "2.7.12"
  }
 },
 "nbformat": 4,
 "nbformat_minor": 1
}
