{
 "cells": [
  {
   "cell_type": "markdown",
   "metadata": {},
   "source": [
    "# A Critical Review of Recurrent Neural Networks for Sequence Learning"
   ]
  },
  {
   "cell_type": "markdown",
   "metadata": {},
   "source": [
    "This is a [paper](https://arxiv.org/pdf/1506.00019.pdf) reading note"
   ]
  },
  {
   "cell_type": "markdown",
   "metadata": {},
   "source": [
    "**Recurrent Neural Networks(RNN)**: are connectionist models with the ability to selectively pass information across the sequence steps, while processing sequential data one element at a time"
   ]
  },
  {
   "cell_type": "markdown",
   "metadata": {},
   "source": [
    "### Why Not Using Markov Models?"
   ]
  },
  {
   "cell_type": "markdown",
   "metadata": {},
   "source": [
    "- Their states must be drawn from a modestly sized discrete state space $S$, the inference scales in time $O(|S|^2)$\n",
    "- Transition matrix grow in size $|S|^2$\n",
    "- Only takein previous one state, have much lager matrices if count into more previous states\n",
    "- Rendering Markov models computationally impractical for modeling long-range dependencies **(NILM?)**"
   ]
  },
  {
   "cell_type": "markdown",
   "metadata": {},
   "source": [
    "### Neural Networks"
   ]
  },
  {
   "cell_type": "markdown",
   "metadata": {},
   "source": [
    "$v_j=l_j(\\sum_{j'}w_{jj'}v_{j'})$  \n",
    "- $jj'$ denotes \"to-from\"\n",
    "- $v_j$: output of node $j$\n",
    "- $l_j$: activation function of node $j$\n",
    "- $w_{jj'}$: weight\n",
    "- $v_{j'}$: output of node $j'$"
   ]
  },
  {
   "cell_type": "markdown",
   "metadata": {},
   "source": [
    "Term the weighted sum inside parentheses the _incoming activation_, note as $a_j$"
   ]
  },
  {
   "cell_type": "markdown",
   "metadata": {},
   "source": [
    "Common activation functions:\n",
    "- Sigmoid: $\\delta(z)=\\frac{1}{1+e^{-z}}$\n",
    "- tanh: $\\phi (z)=\\frac{e^z-e^{-z}}{e^z+e^{-z}}$\n",
    "- Rectified Linear Unit(ReLU): $l_j(z)=max(0,z)$"
   ]
  },
  {
   "cell_type": "markdown",
   "metadata": {},
   "source": [
    "Output activation function: softmax\n",
    "- $\\hat{y}_k=\\frac{e^{a_k}}{\\sum_{k'=1}^Ke^{a_{k'}}}$ for $k=1$ to $k=K$"
   ]
  },
  {
   "cell_type": "code",
   "execution_count": null,
   "metadata": {
    "collapsed": true
   },
   "outputs": [],
   "source": []
  }
 ],
 "metadata": {
  "anaconda-cloud": {},
  "kernelspec": {
   "display_name": "Python [conda env:bhplayground]",
   "language": "python",
   "name": "conda-env-bhplayground-py"
  },
  "language_info": {
   "codemirror_mode": {
    "name": "ipython",
    "version": 2
   },
   "file_extension": ".py",
   "mimetype": "text/x-python",
   "name": "python",
   "nbconvert_exporter": "python",
   "pygments_lexer": "ipython2",
   "version": "2.7.12"
  }
 },
 "nbformat": 4,
 "nbformat_minor": 1
}
