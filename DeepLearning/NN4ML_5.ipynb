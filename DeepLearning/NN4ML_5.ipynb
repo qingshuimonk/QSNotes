{
 "cells": [
  {
   "cell_type": "markdown",
   "metadata": {},
   "source": [
    "# Neural Networks for Machine Learning (5)"
   ]
  },
  {
   "cell_type": "markdown",
   "metadata": {},
   "source": [
    "### Why Object Recognition is Difficult"
   ]
  },
  {
   "cell_type": "markdown",
   "metadata": {},
   "source": [
    "Things that make it hard to recognize objects:\n",
    "- Segmentatioin: objects can go together or hidden behind another one\n",
    "- Lighting\n",
    "- Deformation\n",
    "- Affordances: objects are often defined by how they are used\n",
    "- Viewpoint"
   ]
  },
  {
   "cell_type": "markdown",
   "metadata": {},
   "source": [
    "### Ways to Achieve Viewpoint Invariance"
   ]
  },
  {
   "cell_type": "markdown",
   "metadata": {},
   "source": [
    "1. Use redundant invariant features\n",
    " - Extract a large, redundant set of features that are invariant under transformations\n",
    " - All we need is bag of features\n",
    " - But for recognition, we must avoid forming features from different objects\n",
    "2. Normalized pixels\n",
    " - Put a box around object and use it as a coordinate frame for a set of normalized pixels\n",
    " - The same part of object will always occur on same normalized pixels if box is chosen correctly\n",
    " - Choosing box is difficult\n",
    " - Brute way: train with well-segmented, upright images to fit correct box, test all possible boxes\n",
    "3. Use replicated features with pooling\n",
    "4. Use a hierachy of parts that have explicit posses relative to the camera"
   ]
  },
  {
   "cell_type": "markdown",
   "metadata": {},
   "source": [
    "### Convolutional Neural Networks for Hand-written Digit Recognition"
   ]
  },
  {
   "cell_type": "markdown",
   "metadata": {},
   "source": [
    "Idea: replicate features\n",
    "- Use many different copies of the same feature detector with different positions (greatly reduce the number of parameters need to learn)\n",
    "- Could also repliate acorss scale and orientation\n",
    "- Use several feature type, each with its own map of replicate detectors"
   ]
  },
  {
   "cell_type": "markdown",
   "metadata": {},
   "source": [
    "##### Backpropagation with weight constraints"
   ]
  },
  {
   "cell_type": "markdown",
   "metadata": {},
   "source": [
    "Compute gradients as usual, then modify to satisfy the constraints:\n",
    "To constrain: $w_1=w_2$  \n",
    "We need: $\\Delta w_1=\\Delta w_2$  \n",
    "Compute: $\\frac{\\partial{E}}{\\partial{w_1}}$ and $\\frac{\\partial{E}}{\\partial{w_2}}$  \n",
    "Use $\\frac{\\partial{E}}{\\partial{w_1}}+\\frac{\\partial{E}}{\\partial{w_2}}$ for $w_1$ and $w_2$"
   ]
  },
  {
   "cell_type": "markdown",
   "metadata": {},
   "source": [
    "##### What replicating the feature detectors achieve?"
   ]
  },
  {
   "cell_type": "markdown",
   "metadata": {},
   "source": [
    "1. Equivariant activities: replicate feature do NOT make neural activities invariant to translation\n",
    "2. Invariant knowledge: know how to do in one place -> know how to do in other places"
   ]
  },
  {
   "cell_type": "markdown",
   "metadata": {},
   "source": [
    "##### Pooling the outputs"
   ]
  },
  {
   "cell_type": "markdown",
   "metadata": {},
   "source": [
    "1. In each level: average four neighboring replicate detectors to get output to next level\n",
    " - After several levels of pooling, we'll lost information about precise positions of things"
   ]
  },
  {
   "cell_type": "markdown",
   "metadata": {},
   "source": [
    "##### Le (Yan LeCun) Net"
   ]
  },
  {
   "cell_type": "markdown",
   "metadata": {},
   "source": [
    "- Many hidden layers\n",
    "- Many maps of replicated units\n",
    "- Pooling\n",
    "- A wide net can cope with several characters at once\n",
    "- Training complete system, not just a recognizer"
   ]
  },
  {
   "cell_type": "markdown",
   "metadata": {},
   "source": [
    " ##### Prior and Prejudice"
   ]
  },
  {
   "cell_type": "markdown",
   "metadata": {},
   "source": [
    "- Connectivity\n",
    "- Weight constraints\n",
    "- Neuron activation function"
   ]
  },
  {
   "cell_type": "markdown",
   "metadata": {},
   "source": [
    "##### How to detect a significant different"
   ]
  },
  {
   "cell_type": "markdown",
   "metadata": {},
   "source": [
    "The McNemar test uses the particular errors and can be much more powerful than a test that just uses the number of errors"
   ]
  },
  {
   "cell_type": "markdown",
   "metadata": {},
   "source": [
    "### Convolutional Neural Networks for Object Recognition"
   ]
  },
  {
   "cell_type": "markdown",
   "metadata": {},
   "source": [
    "##### From hand-written digits to 3-D objects\n",
    "- Many classes\n",
    "- Many pixels\n",
    "- 3-D image\n",
    "- Cluttered scenes requiring segmentation\n",
    "- Multiple objects"
   ]
  },
  {
   "cell_type": "markdown",
   "metadata": {},
   "source": [
    "CV task:\n",
    "1. The classification task\n",
    "2. The localization task"
   ]
  },
  {
   "cell_type": "markdown",
   "metadata": {},
   "source": [
    "##### A Neural Network for ImageNet"
   ]
  },
  {
   "cell_type": "markdown",
   "metadata": {},
   "source": [
    "Alex Krizhevsky's net:\n",
    "- 7 hidden layers\n",
    "- The early layers were convolutional\n",
    "- Last two layers were globally connected\n",
    "- Activation functions: Rectified linear units\n",
    "- Also competitive normalization to suppress hidden activities"
   ]
  },
  {
   "cell_type": "markdown",
   "metadata": {},
   "source": [
    "Tricks improve generalization:\n",
    "- Train random 224*224 patches from 256*256 images, also use left-right reflections\n",
    "- Test by combing opinions from ten different patches\n",
    "- Use \"dropout\" to regularize weights to prevent overfitting"
   ]
  },
  {
   "cell_type": "markdown",
   "metadata": {},
   "source": []
  }
 ],
 "metadata": {
  "anaconda-cloud": {},
  "kernelspec": {
   "display_name": "Python [conda env:bhplayground]",
   "language": "python",
   "name": "conda-env-bhplayground-py"
  },
  "language_info": {
   "codemirror_mode": {
    "name": "ipython",
    "version": 2
   },
   "file_extension": ".py",
   "mimetype": "text/x-python",
   "name": "python",
   "nbconvert_exporter": "python",
   "pygments_lexer": "ipython2",
   "version": "2.7.12"
  }
 },
 "nbformat": 4,
 "nbformat_minor": 1
}
