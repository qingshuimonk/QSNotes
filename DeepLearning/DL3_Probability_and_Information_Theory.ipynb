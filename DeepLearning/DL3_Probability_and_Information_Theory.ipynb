{
 "cells": [
  {
   "cell_type": "code",
   "execution_count": 1,
   "metadata": {
    "collapsed": false
   },
   "outputs": [
    {
     "name": "stderr",
     "output_type": "stream",
     "text": [
      "/Users/BohaoHuang/anaconda2/envs/bhplayground/lib/python2.7/site-packages/matplotlib/font_manager.py:273: UserWarning: Matplotlib is building the font cache using fc-list. This may take a moment.\n",
      "  warnings.warn('Matplotlib is building the font cache using fc-list. This may take a moment.')\n"
     ]
    }
   ],
   "source": [
    "from __future__ import division \n",
    "import numpy as np\n",
    "import matplotlib.pyplot as plt\n",
    "% matplotlib inline"
   ]
  },
  {
   "cell_type": "markdown",
   "metadata": {},
   "source": [
    "# Chap3: Probability and Information Theory"
   ]
  },
  {
   "cell_type": "markdown",
   "metadata": {},
   "source": [
    "Sources of uncertainty:\n",
    "- Inherent stochasticity\n",
    "- Incomplete observability\n",
    "- Incomplete modeling"
   ]
  },
  {
   "cell_type": "markdown",
   "metadata": {},
   "source": [
    "**Frequentist probability**: related directly to the rates which events occur\n",
    "**Bayesian probability**: related to quanlitative levels of certainty"
   ]
  },
  {
   "cell_type": "markdown",
   "metadata": {},
   "source": [
    "### Random Variables"
   ]
  },
  {
   "cell_type": "markdown",
   "metadata": {},
   "source": [
    "**Random Variable**: variable take on different values randomly\n",
    "- Discrete: finite or countably infinite number of states\n",
    "- Continuous: associated with real value"
   ]
  },
  {
   "cell_type": "markdown",
   "metadata": {},
   "source": [
    "### Probability Distributioin"
   ]
  },
  {
   "cell_type": "markdown",
   "metadata": {},
   "source": [
    "**Probability mass function(PMF)**: probability distribution over discrete variables  \n",
    "**Joint probability distribution**: probability distribution over many variables (e.g. $P(\\rm{x}=\\mathcal{x},\\rm{y}=\\mathcal{y})$)"
   ]
  },
  {
   "cell_type": "markdown",
   "metadata": {},
   "source": [
    "**Probability density function(PDF)**: over contiuous variables"
   ]
  },
  {
   "cell_type": "markdown",
   "metadata": {},
   "source": [
    "**Marginal probability**: probability distribution over the subset  \n",
    "$\\forall x \\in \\rm{x}, P(\\rm{x}=\\mathcal{x})=\\sum_yP(\\rm{x}=\\mathcal{x},\\rm{y}=\\mathcal{y})$ and $p(x)=\\int p(\\mathcal{x,y})dy$"
   ]
  },
  {
   "cell_type": "markdown",
   "metadata": {},
   "source": [
    "**Conditional probability**: probability of some event given some other event has happend"
   ]
  },
  {
   "cell_type": "markdown",
   "metadata": {},
   "source": [
    "**Chain rule of conditional probabilities**: $P(\\rm{x}^{(1)},\\dot,x^{(n)})=P(x^{(1)})\\prod^n_{i=2}P(x^{(1)},\\dot,x^{(i-1)})$"
   ]
  },
  {
   "cell_type": "markdown",
   "metadata": {},
   "source": [
    "**Independent**: $\\forall \\mathcal{x} \\in \\rm{x}, \\mathcal{y} \\in \\rm{y}, p(\\rm{x}=\\mathcal{x}, \\rm{y}=\\mathcal{y})=p(\\rm{x}=\\mathcal{x})p(\\rm{y}=\\mathcal{y})$  \n",
    "**Conditional Independent**: $\\forall \\mathcal{x} \\in \\rm{x}, \\mathcal{y} \\in \\rm{y}, \\mathcal{z} \\in \\rm{z}, p(\\rm{x}=\\mathcal{x}, \\rm{y}=\\mathcal{y}|\\rm{z}=\\mathcal{z})=p(\\rm{x}=\\mathcal{x}|\\rm{z}=\\mathcal{z})p(\\rm{y}=\\mathcal{y}|\\rm{z}=\\mathcal{z})$  "
   ]
  },
  {
   "cell_type": "markdown",
   "metadata": {},
   "source": [
    "**Variance**: $Var(f(x))=\\mathbb{E}[(f(x)-\\mathbb{E}[f(x)])^2]$  \n",
    "**Standard deviation**: square root of variance"
   ]
  },
  {
   "cell_type": "markdown",
   "metadata": {},
   "source": [
    "**Covariance**: $Cov(f(x),g(y))=\\mathbb{E}[(f(x)-\\mathbb{E}[f(x)])(g(y)-\\mathbb{E}[g(y)])]$"
   ]
  },
  {
   "cell_type": "markdown",
   "metadata": {},
   "source": [
    "Independence > zero covariance because independence also excludes non-linear relationships"
   ]
  },
  {
   "cell_type": "markdown",
   "metadata": {},
   "source": [
    "**[Common probability distributions](http://aleph0.clarku.edu/~djoyce/ma218/distributions.pdf)**"
   ]
  },
  {
   "cell_type": "markdown",
   "metadata": {},
   "source": [
    "Normal distribution is a good default choice:\n",
    "- CLT: sum of many independent random variables is approximately normally distributed\n",
    "- normal distribution encodes maximum amount of uncertainty over real numbers (same variance) -> interests the least amount of prior knowledge"
   ]
  },
  {
   "cell_type": "markdown",
   "metadata": {},
   "source": [
    "**Mixtures distribution**: $P(x)=\\sum_iP(c=i)P(x|c=i)$  \n",
    "A simple strategy for combining probability distributions to create a richer distribution"
   ]
  },
  {
   "cell_type": "markdown",
   "metadata": {},
   "source": [
    "**Latent variable**: random variable we cannot observe directly"
   ]
  },
  {
   "cell_type": "markdown",
   "metadata": {},
   "source": [
    "### Common Functions"
   ]
  },
  {
   "cell_type": "markdown",
   "metadata": {},
   "source": [
    "**logistic sigmoid**: $\\delta (x)=\\frac{1}{1+e^{-x}}$"
   ]
  },
  {
   "cell_type": "code",
   "execution_count": 3,
   "metadata": {
    "collapsed": false
   },
   "outputs": [
    {
     "data": {
      "image/png": "[encoded data removed]",
      "text/plain": [
       "<matplotlib.figure.Figure at 0x105cb1190>"
      ]
     },
     "metadata": {},
     "output_type": "display_data"
    }
   ],
   "source": [
    "plt.plot(1/(1+np.exp(-np.linspace(-10,10))))\n",
    "plt.title('logistic function')\n",
    "plt.show()"
   ]
  },
  {
   "cell_type": "markdown",
   "metadata": {},
   "source": [
    "**softplus**: $\\zeta (x)=log(1+e^x)$ a smoothed version of $x^+=max(0,x)$"
   ]
  },
  {
   "cell_type": "code",
   "execution_count": 4,
   "metadata": {
    "collapsed": false
   },
   "outputs": [
    {
     "data": {
      "image/png": "[encoded data removed]",
      "text/plain": [
       "<matplotlib.figure.Figure at 0x105e1e210>"
      ]
     },
     "metadata": {},
     "output_type": "display_data"
    }
   ],
   "source": [
    "plt.plot(np.log(1+np.exp(np.linspace(-10,10))))\n",
    "plt.title('softplus functioin')\n",
    "plt.show()"
   ]
  },
  {
   "cell_type": "markdown",
   "metadata": {},
   "source": [
    "[see page 70 for other properties of sigmoid and softplus functions](http://www.deeplearningbook.org/contents/prob.html)"
   ]
  },
  {
   "cell_type": "markdown",
   "metadata": {},
   "source": [
    "##### Bayes' Rule"
   ]
  },
  {
   "cell_type": "markdown",
   "metadata": {},
   "source": [
    "$P(x|y)=\\frac{P(x)P(y|x)}{P(y)}$"
   ]
  },
  {
   "cell_type": "markdown",
   "metadata": {},
   "source": [
    "### Information Theory"
   ]
  },
  {
   "cell_type": "markdown",
   "metadata": {},
   "source": [
    "**self-information**: I(x)=-logP(x)"
   ]
  },
  {
   "cell_type": "markdown",
   "metadata": {},
   "source": [
    "**shannon entropy**: $H(x)=\\mathbb{E}_{x\\sim P}[I(x)]=-\\mathbb{E}_{x\\sim P}[logP(x)]$ -> expected amount of information in an event drawn from that distribution\n",
    "- lower bound of needed bits"
   ]
  },
  {
   "cell_type": "markdown",
   "metadata": {},
   "source": [
    "**Kullback-Leibler(KL) divergence**: $D_{KL}(P||Q)=\\mathbb{E}_{x\\sim P}[log\\frac{P(x)}{Q(x)}]=\\mathbb{E}_{x\\sim P}[logP(x)-logQ(x)]$, the extra amount of information needed to send P when we are coded in Q\n",
    "- Kl divergence is asymmetric, the choice of which direction of the KL divergence to use is problem-dependent"
   ]
  },
  {
   "cell_type": "markdown",
   "metadata": {},
   "source": [
    "**cross-entropy**: $H(P,Q)=H(P)+D_{KL}(P||Q)$ -> minimizing cross entropy with respect to Q is equivalent to minimizing the KL divergence"
   ]
  },
  {
   "cell_type": "markdown",
   "metadata": {},
   "source": [
    "### Structured Probabilistic Models"
   ]
  },
  {
   "cell_type": "markdown",
   "metadata": {},
   "source": [
    "Split probability distribution into many factors, e.g. $p(a,b,c)=p(a)p(b|a)p(c|b)$"
   ]
  },
  {
   "cell_type": "markdown",
   "metadata": {},
   "source": [
    "- Directed: represent factorizations into conditional probability distributions\n",
    "- Undirected: represent factorizaitions into a set of functions"
   ]
  },
  {
   "cell_type": "code",
   "execution_count": null,
   "metadata": {
    "collapsed": true
   },
   "outputs": [],
   "source": []
  }
 ],
 "metadata": {
  "anaconda-cloud": {},
  "kernelspec": {
   "display_name": "Python [conda env:bhplayground]",
   "language": "python",
   "name": "conda-env-bhplayground-py"
  },
  "language_info": {
   "codemirror_mode": {
    "name": "ipython",
    "version": 2
   },
   "file_extension": ".py",
   "mimetype": "text/x-python",
   "name": "python",
   "nbconvert_exporter": "python",
   "pygments_lexer": "ipython2",
   "version": "2.7.12"
  }
 },
 "nbformat": 4,
 "nbformat_minor": 1
}
