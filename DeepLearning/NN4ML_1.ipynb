{
 "cells": [
  {
   "cell_type": "markdown",
   "metadata": {},
   "source": [
    "# Neural Networks for Machine Learning (1)\n",
    "## Some Simple Models of Neurons\n",
    "1. Linear neuron: simple but computationally limited (can produce negative output) $$y=b+\\sum_ix_iw_i$$\n",
    "2. Binary threshold neurons (like a step function)$$z=\\sum_ix_iw_i, y= 1 \\ if \\ z\\geq\\theta$$or$$z = b + \\sum_ix_iw_i, y= 1 \\ if \\ z\\geq0 \\ (\\theta=-b)$$\n",
    " - First compute a weighted sum of the inputs\n",
    " - Then send out a fixed size spike of activity if the weighted sum exceeds a threshold\n",
    "3. Rectified linear neurons:$$z=b+\\sum_ix_iw_i, y = z \\ if \\ z>0$$\n",
    "4. Sigmoid neurons:$$z = b + \\sum_ix_iw_i, y=\\frac{1}{1+e^{-z}}$$\n",
    "5. Stochastic binary neurons: The output is treated as Poisson $$z=b+\\sum_ix_iw_i, p(s=1)=\\frac{1}{1+e^{-z}}$$\n",
    "\n",
    "## Three Types of Learning\n",
    "- Supervised learning\n",
    "\t1. Each training case have an input vector and target output\n",
    "\t2. Regression and classification\n",
    "\t3. model-class: $y=f(x;W)$\n",
    "- Reinforcement learning\n",
    "\t1. The output is an action or sequence of actions\n",
    "\t2. The only supervisory signal is an occasional scalar reward\n",
    "- Unsupervised learning: crease an internal representation of the input\n",
    "\t1. It provides compact, low-dimensional representation of input"
   ]
  }
 ],
 "metadata": {
  "anaconda-cloud": {},
  "kernelspec": {
   "display_name": "Python [conda env:bhplayground]",
   "language": "python",
   "name": "conda-env-bhplayground-py"
  },
  "language_info": {
   "codemirror_mode": {
    "name": "ipython",
    "version": 2
   },
   "file_extension": ".py",
   "mimetype": "text/x-python",
   "name": "python",
   "nbconvert_exporter": "python",
   "pygments_lexer": "ipython2",
   "version": "2.7.12"
  }
 },
 "nbformat": 4,
 "nbformat_minor": 1
}
