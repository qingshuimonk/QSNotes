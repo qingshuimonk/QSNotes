{
 "cells": [
  {
   "cell_type": "markdown",
   "metadata": {},
   "source": [
    "# Neural Networks for Machine Learning (11)"
   ]
  },
  {
   "cell_type": "markdown",
   "metadata": {},
   "source": [
    "### Hopfield Nets"
   ]
  },
  {
   "cell_type": "markdown",
   "metadata": {},
   "source": [
    "Composed of binary threshold units with recurrent connections between them\n",
    "- Can settle to stable state\n",
    "- Oscillate\n",
    "- Follow chaotic"
   ]
  },
  {
   "cell_type": "markdown",
   "metadata": {},
   "source": [
    "If the connections are symmetric, there is a global energy function\n",
    "- Each binargy unit has an energy\n",
    "- The binargy threshold cause the network to settle to a minimum of this energy function"
   ]
  },
  {
   "cell_type": "markdown",
   "metadata": {},
   "source": [
    "Energy function $E = -\\sum_is_ib_i-\\sum_{i<j}s_is_jw_{ij}$  \n",
    "Each contribution depends on one connection weight and binary states of two neurons"
   ]
  },
  {
   "cell_type": "markdown",
   "metadata": {},
   "source": [
    "Energy gap: $\\Delta E_i=E(s_i=0)-E(s_i=1)=b_i+\\sum_js_jw_{ij}$"
   ]
  },
  {
   "cell_type": "markdown",
   "metadata": {},
   "source": [
    "Find energy minimum: start from random state and update one at a time in random order"
   ]
  },
  {
   "cell_type": "markdown",
   "metadata": {},
   "source": [
    "Why decisions need to be sequencial:\n",
    "- Simultaneous could make energy go up\n",
    "- Simultaneous could cause oscillations"
   ]
  },
  {
   "cell_type": "markdown",
   "metadata": {},
   "source": [
    "Memories could be energy minima of a neural net\n",
    "- Store binary state vector by incrementing the weight between any two units by product of their activities\n",
    "- $\\Delta w_{ij}=s_is_j$"
   ]
  },
  {
   "cell_type": "markdown",
   "metadata": {},
   "source": [
    "### Dealing with Spurious Minima in Hopfield Nets"
   ]
  },
  {
   "cell_type": "markdown",
   "metadata": {},
   "source": [
    "###### The storage capacity of Hopfield net"
   ]
  },
  {
   "cell_type": "markdown",
   "metadata": {},
   "source": [
    "N units: 0.15N memories\n",
    "- $0.15N^2$ bits, not efficient\n",
    "- Store M memories, each connection has integer weight between [-M, M]\n",
    "- $N^2log(2M+1)$ to store weights and biases"
   ]
  },
  {
   "cell_type": "markdown",
   "metadata": {},
   "source": [
    "###### Avoiding spurious minima by unlearning"
   ]
  },
  {
   "cell_type": "markdown",
   "metadata": {},
   "source": [
    "- Let net settle from a random initial state and then do unlearning\n",
    "- get rid of deep spurious minima and increase capacity"
   ]
  },
  {
   "cell_type": "markdown",
   "metadata": {},
   "source": [
    "### How a Boltzman Machine Models Data"
   ]
  },
  {
   "cell_type": "markdown",
   "metadata": {},
   "source": [
    "###### Modeling binary data"
   ]
  },
  {
   "cell_type": "markdown",
   "metadata": {},
   "source": [
    "- Decide if a binary vector come from same distribution\n",
    "- Monitoring complex system to decide unusual behavior\n",
    "- Compute posterior that data from a distribution"
   ]
  },
  {
   "cell_type": "markdown",
   "metadata": {},
   "source": [
    "###### How to generate data"
   ]
  },
  {
   "cell_type": "markdown",
   "metadata": {},
   "source": [
    "Two sequential steps:\n",
    "- pick hidden states from prior distribution\n",
    "- pick visible states from conditional distribution given the hidden units, $p(v)=\\sum_hp(h)p(v|h)$"
   ]
  },
  {
   "cell_type": "markdown",
   "metadata": {},
   "source": [
    "###### How Boltzmann machine generate data"
   ]
  },
  {
   "cell_type": "markdown",
   "metadata": {},
   "source": [
    "- not a causal generative model\n",
    "- everything is defined in terms of joint energies"
   ]
  },
  {
   "cell_type": "markdown",
   "metadata": {},
   "source": [
    "![](pics\\11-5-1.png)"
   ]
  },
  {
   "cell_type": "code",
   "execution_count": null,
   "metadata": {
    "collapsed": true
   },
   "outputs": [],
   "source": []
  }
 ],
 "metadata": {
  "anaconda-cloud": {},
  "kernelspec": {
   "display_name": "Python [conda env:bhplayground]",
   "language": "python",
   "name": "conda-env-bhplayground-py"
  },
  "language_info": {
   "codemirror_mode": {
    "name": "ipython",
    "version": 2
   },
   "file_extension": ".py",
   "mimetype": "text/x-python",
   "name": "python",
   "nbconvert_exporter": "python",
   "pygments_lexer": "ipython2",
   "version": "2.7.12"
  }
 },
 "nbformat": 4,
 "nbformat_minor": 1
}
