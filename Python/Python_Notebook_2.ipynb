{
 "cells": [
  {
   "cell_type": "markdown",
   "metadata": {},
   "source": [
    "# Numpy\n",
    "Numpy tutorial can be found at [here](https://docs.scipy.org/doc/numpy-dev/user/quickstart.html).\n",
    "\n",
    "## Basics\n",
    "### Initialize ndarray"
   ]
  },
  {
   "cell_type": "code",
   "execution_count": 15,
   "metadata": {
    "collapsed": false
   },
   "outputs": [
    {
     "name": "stdout",
     "output_type": "stream",
     "text": [
      "a=[[ 0.  0.]\n",
      " [ 0.  0.]]\n",
      "b=[[ 1.  0.]\n",
      " [ 0.  1.]]\n",
      "c=[[1 1]\n",
      " [1 1]]\n",
      "d=[[ 7.  7.]\n",
      " [ 7.  7.]]\n",
      "e=[[ 0.73805793  0.10669855]\n",
      " [ 0.9654341   0.62757798]]\n",
      "f=[1 2 3]\n"
     ]
    }
   ],
   "source": [
    "import numpy as np\n",
    "a = np.zeros((2,2))\n",
    "b = np.eye(2)                # only one number is needed here\n",
    "c = np.ones((2,2), dtype=np.int16)\n",
    "d = np.full((2,2),7)\n",
    "e = np.random.random((2,2))\n",
    "f = np.array([1,2,3])\n",
    "print 'a='+str(a)\n",
    "print 'b='+str(b)\n",
    "print 'c='+str(c)\n",
    "print 'd='+str(d)\n",
    "print 'e='+str(e)\n",
    "print 'f='+str(f)"
   ]
  },
  {
   "cell_type": "markdown",
   "metadata": {},
   "source": [
    "### ndarray attributes"
   ]
  },
  {
   "cell_type": "code",
   "execution_count": 12,
   "metadata": {
    "collapsed": false
   },
   "outputs": [
    {
     "name": "stdout",
     "output_type": "stream",
     "text": [
      "dimension of a=2\n",
      "shape of b=(2, 2)\n",
      "size of c=4\n",
      "dtype of d=float64\n"
     ]
    }
   ],
   "source": [
    "print 'dimension of a='+str(a.ndim)\n",
    "print 'shape of b='+str(b.shape)\n",
    "print 'size of c='+str(c.size)       # total number of elements\n",
    "print 'dtype of d='+str(d.dtype)"
   ]
  },
  {
   "cell_type": "markdown",
   "metadata": {},
   "source": [
    "### Create sequence of numbers"
   ]
  },
  {
   "cell_type": "code",
   "execution_count": 21,
   "metadata": {
    "collapsed": false
   },
   "outputs": [
    {
     "name": "stdout",
     "output_type": "stream",
     "text": [
      "[10 15 20 25]\n",
      "[ 10.  15.  20.  25.]\n"
     ]
    }
   ],
   "source": [
    "print np.arange(10, 30, 5)           # start, end(exclusive), step\n",
    "print np.linspace(10, 25, 4)         # start, end, #elements, get exact number as we want"
   ]
  },
  {
   "cell_type": "code",
   "execution_count": null,
   "metadata": {
    "collapsed": true
   },
   "outputs": [],
   "source": []
  }
 ],
 "metadata": {
  "kernelspec": {
   "display_name": "Python [conda env:bhplayground]",
   "language": "python",
   "name": "conda-env-bhplayground-py"
  },
  "language_info": {
   "codemirror_mode": {
    "name": "ipython",
    "version": 2
   },
   "file_extension": ".py",
   "mimetype": "text/x-python",
   "name": "python",
   "nbconvert_exporter": "python",
   "pygments_lexer": "ipython2",
   "version": "2.7.12"
  }
 },
 "nbformat": 4,
 "nbformat_minor": 1
}
