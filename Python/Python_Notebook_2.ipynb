{
 "cells": [
  {
   "cell_type": "markdown",
   "metadata": {},
   "source": [
    "# Numpy\n",
    "Numpy tutorial can be found at [here](https://docs.scipy.org/doc/numpy-dev/user/quickstart.html).\n",
    "\n",
    "## Basics\n",
    "### Initialize ndarray"
   ]
  },
  {
   "cell_type": "code",
   "execution_count": 2,
   "metadata": {
    "collapsed": false
   },
   "outputs": [
    {
     "name": "stdout",
     "output_type": "stream",
     "text": [
      "a=[[ 0.  0.]\n",
      " [ 0.  0.]]\n",
      "b=[[ 1.  0.]\n",
      " [ 0.  1.]]\n",
      "c=[[1 1]\n",
      " [1 1]]\n",
      "d=[[7 7]\n",
      " [7 7]]\n",
      "e=[[ 0.73636178  0.40140511]\n",
      " [ 0.04103401  0.75093747]]\n",
      "f=[1 2 3]\n"
     ]
    }
   ],
   "source": [
    "import numpy as np\n",
    "a = np.zeros((2,2))\n",
    "b = np.eye(2)                # only one number is needed here\n",
    "c = np.ones((2,2), dtype=np.int16)\n",
    "d = np.full((2,2),7, dtype=np.int64)\n",
    "e = np.random.random((2,2))\n",
    "f = np.array([1,2,3])\n",
    "print 'a='+str(a)\n",
    "print 'b='+str(b)\n",
    "print 'c='+str(c)\n",
    "print 'd='+str(d)\n",
    "print 'e='+str(e)\n",
    "print 'f='+str(f)"
   ]
  },
  {
   "cell_type": "markdown",
   "metadata": {},
   "source": [
    "### ndarray attributes"
   ]
  },
  {
   "cell_type": "code",
   "execution_count": 5,
   "metadata": {
    "collapsed": false
   },
   "outputs": [
    {
     "name": "stdout",
     "output_type": "stream",
     "text": [
      "dimension of a=2\n",
      "shape of b=(2, 2)\n",
      "size of c=4\n",
      "dtype of d=int64\n"
     ]
    }
   ],
   "source": [
    "print 'dimension of a='+str(a.ndim)\n",
    "print 'shape of b='+str(b.shape)\n",
    "print 'size of c='+str(c.size)       # total number of elements\n",
    "print 'dtype of d='+str(d.dtype)"
   ]
  },
  {
   "cell_type": "markdown",
   "metadata": {},
   "source": [
    "### Create sequence of numbers"
   ]
  },
  {
   "cell_type": "code",
   "execution_count": 6,
   "metadata": {
    "collapsed": false
   },
   "outputs": [
    {
     "name": "stdout",
     "output_type": "stream",
     "text": [
      "[10 15 20 25]\n",
      "[ 10.  15.  20.  25.]\n"
     ]
    }
   ],
   "source": [
    "print np.arange(10, 30, 5)           # start, end(exclusive), step\n",
    "print np.linspace(10, 25, 4)         # start, end, #elements, get exact number as we want"
   ]
  },
  {
   "cell_type": "code",
   "execution_count": 8,
   "metadata": {
    "collapsed": false
   },
   "outputs": [
    {
     "name": "stdout",
     "output_type": "stream",
     "text": [
      "[[1 2 3]\n",
      " [4 5 6]]\n",
      "[[1 2]\n",
      " [3 4]\n",
      " [5 6]]\n"
     ]
    }
   ],
   "source": [
    "a = np.array([[1,2,3],[4,5,6]])\n",
    "print a\n",
    "print a.reshape((3,2))               # reshape the array, '(' and ')' are needed"
   ]
  },
  {
   "cell_type": "markdown",
   "metadata": {},
   "source": [
    "## operations\n",
    "In numpy, \\* operates **elementwise**. Use 'np.dot' for matrix product"
   ]
  },
  {
   "cell_type": "code",
   "execution_count": 9,
   "metadata": {
    "collapsed": false
   },
   "outputs": [
    {
     "name": "stdout",
     "output_type": "stream",
     "text": [
      "[[ 6 10 12]\n",
      " [12 10  6]]\n"
     ]
    }
   ],
   "source": [
    "a = np.array([[1,2,3],[4,5,6]])\n",
    "b = np.array([[6,5,4],[3,2,1]])\n",
    "print a*b                           # element product"
   ]
  },
  {
   "cell_type": "code",
   "execution_count": 10,
   "metadata": {
    "collapsed": false
   },
   "outputs": [
    {
     "name": "stdout",
     "output_type": "stream",
     "text": [
      "[[28 10]\n",
      " [73 28]]\n"
     ]
    }
   ],
   "source": [
    "print np.dot(a,np.transpose(b))     # matrix product"
   ]
  },
  {
   "cell_type": "markdown",
   "metadata": {},
   "source": [
    "sum, min, max are methods of ndarray class"
   ]
  },
  {
   "cell_type": "code",
   "execution_count": 11,
   "metadata": {
    "collapsed": false
   },
   "outputs": [
    {
     "name": "stdout",
     "output_type": "stream",
     "text": [
      "[[ 0.48223425  0.33671189  0.15391381]\n",
      " [ 0.25623811  0.17841378  0.67016424]]\n"
     ]
    }
   ],
   "source": [
    "a = np.random.random((2,3))\n",
    "print a"
   ]
  },
  {
   "cell_type": "code",
   "execution_count": 12,
   "metadata": {
    "collapsed": false
   },
   "outputs": [
    {
     "name": "stdout",
     "output_type": "stream",
     "text": [
      "[ 0.73847236  0.51512567  0.82407806]\n",
      "[ 0.97285996  1.10481613]\n"
     ]
    }
   ],
   "source": [
    "print a.sum(axis=0)                 # column sum\n",
    "print a.sum(axis=1)                 # row sum"
   ]
  },
  {
   "cell_type": "code",
   "execution_count": 14,
   "metadata": {
    "collapsed": false
   },
   "outputs": [
    {
     "name": "stdout",
     "output_type": "stream",
     "text": [
      "[ 0.48223425  0.33671189  0.67016424]\n",
      "[ 0.48223425  0.67016424]\n"
     ]
    }
   ],
   "source": [
    "print a.max(axis=0)\n",
    "print a.max(axis=1)"
   ]
  },
  {
   "cell_type": "code",
   "execution_count": 15,
   "metadata": {
    "collapsed": false
   },
   "outputs": [
    {
     "name": "stdout",
     "output_type": "stream",
     "text": [
      "[ 0.25623811  0.17841378  0.15391381]\n",
      "[ 0.15391381  0.17841378]\n"
     ]
    }
   ],
   "source": [
    "print a.min(axis=0)\n",
    "print a.min(axis=1)"
   ]
  },
  {
   "cell_type": "markdown",
   "metadata": {},
   "source": [
    "NumPy provides familiar mathematical functions such as _sin_, _cos_, and _exp_. In NumPy, these are called “**universal functions**”(ufunc). Within NumPy, these functions operate **elementwise** on an array, producing an array as output."
   ]
  },
  {
   "cell_type": "code",
   "execution_count": 50,
   "metadata": {
    "collapsed": false
   },
   "outputs": [
    {
     "name": "stdout",
     "output_type": "stream",
     "text": [
      "[[ 0.34824388  0.73915642  0.76012123  0.963917    0.57135937  0.41584273]]\n"
     ]
    }
   ],
   "source": [
    "b = a.reshape((1,-1))               # -1 can be set as default number\n",
    "print b"
   ]
  },
  {
   "cell_type": "code",
   "execution_count": 20,
   "metadata": {
    "collapsed": false
   },
   "outputs": [
    {
     "name": "stdout",
     "output_type": "stream",
     "text": [
      "[[ 1.61968916  1.40033555  1.16639036  1.29206034  1.19531982  1.95455831]]\n",
      "[[ 0.69443089  0.58026881  0.39231851  0.50619967  0.42239056  0.8186356 ]]\n",
      "[[ 0.46375979  0.33038541  0.15330684  0.25344329  0.17746876  0.62111471]]\n"
     ]
    }
   ],
   "source": [
    "print np.exp(b)\n",
    "print np.sqrt(b)\n",
    "print np.sin(b)"
   ]
  },
  {
   "cell_type": "markdown",
   "metadata": {},
   "source": [
    "Several arrays can be stacked together along different axes"
   ]
  },
  {
   "cell_type": "code",
   "execution_count": 56,
   "metadata": {
    "collapsed": false
   },
   "outputs": [
    {
     "name": "stdout",
     "output_type": "stream",
     "text": [
      "[[ 0.76651711  0.17434956]\n",
      " [ 0.33796489  0.16795555]\n",
      " [ 0.66589005  0.55650589]]\n",
      "[[ 0.6126561   0.09976938]\n",
      " [ 0.18493268  0.20998451]\n",
      " [ 0.65490457  0.03959721]]\n"
     ]
    }
   ],
   "source": [
    "a = np.random.random((3, 2))\n",
    "b = np.random.random((3, 2))\n",
    "print a\n",
    "print b"
   ]
  },
  {
   "cell_type": "code",
   "execution_count": 57,
   "metadata": {
    "collapsed": false
   },
   "outputs": [
    {
     "name": "stdout",
     "output_type": "stream",
     "text": [
      "[[ 0.76651711  0.17434956]\n",
      " [ 0.33796489  0.16795555]\n",
      " [ 0.66589005  0.55650589]\n",
      " [ 0.6126561   0.09976938]\n",
      " [ 0.18493268  0.20998451]\n",
      " [ 0.65490457  0.03959721]]\n",
      "[[ 0.76651711  0.17434956  0.6126561   0.09976938]\n",
      " [ 0.33796489  0.16795555  0.18493268  0.20998451]\n",
      " [ 0.66589005  0.55650589  0.65490457  0.03959721]]\n"
     ]
    }
   ],
   "source": [
    "print np.vstack((a, b))           # vertical stack\n",
    "print np.hstack((a, b))           # horizontal stack"
   ]
  },
  {
   "cell_type": "markdown",
   "metadata": {},
   "source": [
    "## Indexing, Slicing and Iterating\n",
    "Operation for one-dimension _ndarry_ is similar to _list_ in python"
   ]
  },
  {
   "cell_type": "code",
   "execution_count": 22,
   "metadata": {
    "collapsed": false
   },
   "outputs": [
    {
     "name": "stdout",
     "output_type": "stream",
     "text": [
      "[ 0.50712513  0.01798379  0.09065167  0.20181364  0.83580155]\n"
     ]
    }
   ],
   "source": [
    "a = np.random.random(5)\n",
    "print a"
   ]
  },
  {
   "cell_type": "code",
   "execution_count": 28,
   "metadata": {
    "collapsed": false
   },
   "outputs": [
    {
     "name": "stdout",
     "output_type": "stream",
     "text": [
      "[ 0.01798379  0.09065167]\n",
      "[ 0.50712513  0.01798379  0.09065167]\n",
      "0.835801546492\n",
      "[ 0.50712513  0.01798379  0.09065167  0.20181364]\n",
      "[ 0.50712513  0.09065167  0.83580155]\n"
     ]
    }
   ],
   "source": [
    "print a[1:3]                 # second and third (second argument is exclusive)\n",
    "print a[:3]                  # first to third\n",
    "print a[-1]                  # last\n",
    "print a[:-1]                 # first to second last\n",
    "print a[0:5:2]               # every second element"
   ]
  },
  {
   "cell_type": "code",
   "execution_count": 29,
   "metadata": {
    "collapsed": false
   },
   "outputs": [
    {
     "name": "stdout",
     "output_type": "stream",
     "text": [
      "0.507125127938\n",
      "0.017983790128\n",
      "0.0906516708985\n",
      "0.201813644801\n",
      "0.835801546492\n"
     ]
    }
   ],
   "source": [
    "for elem in a:\n",
    "    print elem"
   ]
  },
  {
   "cell_type": "markdown",
   "metadata": {},
   "source": [
    "Multidimensional arrays can have one index per axis. These indices are given in a **tuple** separated by commas:"
   ]
  },
  {
   "cell_type": "code",
   "execution_count": 30,
   "metadata": {
    "collapsed": false
   },
   "outputs": [
    {
     "name": "stdout",
     "output_type": "stream",
     "text": [
      "[[ 0.30007595  0.17009519  0.92061579]\n",
      " [ 0.64273986  0.91573199  0.42044638]]\n"
     ]
    }
   ],
   "source": [
    "a = np.random.random((2, 3))\n",
    "print a"
   ]
  },
  {
   "cell_type": "code",
   "execution_count": 37,
   "metadata": {
    "collapsed": false
   },
   "outputs": [
    {
     "name": "stdout",
     "output_type": "stream",
     "text": [
      "0.170095187365\n",
      "[ 0.30007595  0.17009519  0.92061579]\n",
      "[[ 0.30007595  0.17009519]\n",
      " [ 0.64273986  0.91573199]]\n",
      "[ 0.64273986  0.91573199  0.42044638]\n"
     ]
    }
   ],
   "source": [
    "print a[0,1]                 # first row second column\n",
    "print a[0,:]                 # first row\n",
    "print a[:,0:2]               # all rows, first to second column\n",
    "print a[-1]                  # last row, same as a[1,:]"
   ]
  },
  {
   "cell_type": "code",
   "execution_count": 38,
   "metadata": {
    "collapsed": false
   },
   "outputs": [
    {
     "name": "stdout",
     "output_type": "stream",
     "text": [
      "[ 0.30007595  0.17009519  0.92061579]\n",
      "[ 0.64273986  0.91573199  0.42044638]\n"
     ]
    }
   ],
   "source": [
    "for rows in a:\n",
    "    print rows"
   ]
  },
  {
   "cell_type": "code",
   "execution_count": 41,
   "metadata": {
    "collapsed": false
   },
   "outputs": [
    {
     "name": "stdout",
     "output_type": "stream",
     "text": [
      "0.300075951178\n",
      "0.170095187365\n",
      "0.920615790429\n",
      "0.642739864806\n",
      "0.915731986618\n",
      "0.420446381414\n"
     ]
    }
   ],
   "source": [
    "for elem in a.flat:          # iterate over all elements\n",
    "    print elem"
   ]
  },
  {
   "cell_type": "markdown",
   "metadata": {},
   "source": [
    "Many functions are provided for shape changing"
   ]
  },
  {
   "cell_type": "code",
   "execution_count": 43,
   "metadata": {
    "collapsed": false
   },
   "outputs": [
    {
     "name": "stdout",
     "output_type": "stream",
     "text": [
      "[[ 0.34824388  0.73915642  0.76012123]\n",
      " [ 0.963917    0.57135937  0.41584273]]\n"
     ]
    }
   ],
   "source": [
    "a = np.random.random((2, 3))\n",
    "print a"
   ]
  },
  {
   "cell_type": "code",
   "execution_count": 54,
   "metadata": {
    "collapsed": false
   },
   "outputs": [
    {
     "name": "stdout",
     "output_type": "stream",
     "text": [
      "[[ 0.34824388  0.73915642]\n",
      " [ 0.76012123  0.963917  ]\n",
      " [ 0.57135937  0.41584273]]\n",
      "[[ 0.34824388  0.73915642]\n",
      " [ 0.76012123  0.963917  ]\n",
      " [ 0.57135937  0.41584273]]\n"
     ]
    }
   ],
   "source": [
    "print a.reshape((3, 2))\n",
    "print np.resize(a, (3,2))"
   ]
  },
  {
   "cell_type": "markdown",
   "metadata": {
    "collapsed": true
   },
   "source": [
    "## Concatenate Numpy Arrays"
   ]
  },
  {
   "cell_type": "code",
   "execution_count": 8,
   "metadata": {
    "collapsed": false
   },
   "outputs": [
    {
     "name": "stdout",
     "output_type": "stream",
     "text": [
      "[[1 1 1]]\n",
      "[[2 2 2]]\n",
      "[[3 3 3]]\n"
     ]
    }
   ],
   "source": [
    "x1 = np.full((1,3), 1, dtype=np.int64)\n",
    "x2 = np.full((1,3), 2, dtype=np.int64)\n",
    "x3 = np.full((1,3), 3, dtype=np.int64)\n",
    "print x1\n",
    "print x2\n",
    "print x3"
   ]
  },
  {
   "cell_type": "code",
   "execution_count": 11,
   "metadata": {
    "collapsed": false
   },
   "outputs": [
    {
     "name": "stdout",
     "output_type": "stream",
     "text": [
      "<type 'list'>\n",
      "[array([[1, 1, 1]]), array([[2, 2, 2]]), array([[3, 3, 3]])]\n",
      "<type 'numpy.ndarray'>\n",
      "[[[1 1 1]]\n",
      "\n",
      " [[2 2 2]]\n",
      "\n",
      " [[3 3 3]]]\n"
     ]
    }
   ],
   "source": [
    "x_all = []\n",
    "x_all.append(x1)\n",
    "x_all.append(x2)\n",
    "x_all.append(x3)\n",
    "print type(x_all)\n",
    "print x_all\n",
    "print type(np.asarray(x_all))      # each row is a ndarray\n",
    "print np.asarray(x_all)"
   ]
  },
  {
   "cell_type": "code",
   "execution_count": null,
   "metadata": {
    "collapsed": true
   },
   "outputs": [],
   "source": []
  }
 ],
 "metadata": {
  "anaconda-cloud": {},
  "kernelspec": {
   "display_name": "Python [conda env:bhplayground]",
   "language": "python",
   "name": "conda-env-bhplayground-py"
  },
  "language_info": {
   "codemirror_mode": {
    "name": "ipython",
    "version": 2
   },
   "file_extension": ".py",
   "mimetype": "text/x-python",
   "name": "python",
   "nbconvert_exporter": "python",
   "pygments_lexer": "ipython2",
   "version": "2.7.12"
  }
 },
 "nbformat": 4,
 "nbformat_minor": 1
}
