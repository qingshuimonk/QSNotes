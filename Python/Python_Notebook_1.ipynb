{
 "cells": [
  {
   "cell_type": "markdown",
   "metadata": {},
   "source": [
    "# Python Notebook 1\n",
    "This ipynb is created after studying [Stanford CS228 Python Tutorial](https://github.com/kuleshov/cs228-material/blob/master/tutorials/python/cs228-python-tutorial.ipynb). And project my project experience.  \n",
    "Differences between _numpy_ and _Matlab_ can be found [here](https://docs.scipy.org/doc/numpy-dev/user/numpy-for-matlab-users.html)\n",
    "## Basics of Python\n",
    "### Strings & Regex"
   ]
  },
  {
   "cell_type": "code",
   "execution_count": 25,
   "metadata": {
    "collapsed": false,
    "scrolled": true
   },
   "outputs": [
    {
     "name": "stdout",
     "output_type": "stream",
     "text": [
      "You can find a goood python tutorial at https://github.com/kuleshov/cs228-material/blob/master/tutorials/python/cs228-python-tutorial.ipynb\n"
     ]
    }
   ],
   "source": [
    "s = 'You can find a goood python tutorial at https://github.com/kuleshov/cs228-material/blob/master/tutorials'+\\\n",
    "     '/python/cs228-python-tutorial.ipynb'\n",
    "print s"
   ]
  },
  {
   "cell_type": "code",
   "execution_count": 27,
   "metadata": {
    "collapsed": false
   },
   "outputs": [
    {
     "name": "stdout",
     "output_type": "stream",
     "text": [
      "Substitute link to 'URL': You can find a good python tutorial at URL\n",
      "Remove three or more consecutive letters: You can find a good python tutorial at URL\n"
     ]
    }
   ],
   "source": [
    "import re\n",
    "s = re.sub('((www\\.[^\\s]+)|(https?://[^\\s]+))', 'URL', s)\n",
    "print 'Substitute link to \\'URL\\': ' + s\n",
    "pattern = re.compile(r\"(.)\\1{1,}\", re.DOTALL)\n",
    "s = pattern.sub(r\"\\1\\1\", s)\n",
    "print 'Remove three or more consecutive letters: ' + s"
   ]
  },
  {
   "cell_type": "markdown",
   "metadata": {},
   "source": [
    "### Containers\n",
    "#### Lists & Slicing"
   ]
  },
  {
   "cell_type": "code",
   "execution_count": 11,
   "metadata": {
    "collapsed": false
   },
   "outputs": [
    {
     "name": "stdout",
     "output_type": "stream",
     "text": [
      "[0, 20, 40, 60, 80]\n",
      "[40, 60]\n",
      "[40, 60, 80]\n",
      "[0, 20]\n",
      "[0, 20, 40, 60, 80]\n",
      "[0, 20, 40, 60]\n",
      "[0, 20, -40, -60, 80]\n",
      "[-20, -80]\n"
     ]
    }
   ],
   "source": [
    "x = [i for i in range(0, 100, 20)] # range function can be used to create list\n",
    "print x\n",
    "print x[2:4]        # Get a slice from index 2 to 4 (exclusive); prints \"[2, 3]\"\n",
    "print x[2:]         # Get a slice from index 2 to the end; prints \"[2, 3, 4]\"\n",
    "print x[:2]         # Get a slice from the start to index 2 (exclusive); prints \"[0, 1]\"\n",
    "print x[:]          # Get a slice of the whole list; prints [\"0, 1, 2, 3, 4]\"\n",
    "print x[:-1]        # Slice indices can be negative; prints [\"0, 1, 2, 3]\"\n",
    "x[2:4] = [-40, -60] # Assign a new sublist to a slice\n",
    "print x             # Prints \"[0, 20, -40, -60, 80]\"\n",
    "print [y * -1 for y in x if y > 0]       # Conditions can also be used in List comprehensions"
   ]
  },
  {
   "cell_type": "code",
   "execution_count": null,
   "metadata": {
    "collapsed": true
   },
   "outputs": [],
   "source": []
  }
 ],
 "metadata": {
  "anaconda-cloud": {},
  "kernelspec": {
   "display_name": "Python [conda env:bhplayground]",
   "language": "python",
   "name": "conda-env-bhplayground-py"
  },
  "language_info": {
   "codemirror_mode": {
    "name": "ipython",
    "version": 2
   },
   "file_extension": ".py",
   "mimetype": "text/x-python",
   "name": "python",
   "nbconvert_exporter": "python",
   "pygments_lexer": "ipython2",
   "version": "2.7.12"
  }
 },
 "nbformat": 4,
 "nbformat_minor": 1
}
