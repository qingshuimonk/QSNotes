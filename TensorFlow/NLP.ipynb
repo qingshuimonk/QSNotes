{
 "cells": [
  {
   "cell_type": "markdown",
   "metadata": {},
   "source": [
    "# NLP with Deep Learning"
   ]
  },
  {
   "cell_type": "markdown",
   "metadata": {},
   "source": [
    "### Word2vec (Mikolov et al. 2013)"
   ]
  },
  {
   "cell_type": "markdown",
   "metadata": {},
   "source": [
    "1. Skip-grams (SG)\n",
    " - Predict context words given target (position independent)\n",
    "2. Continuous Bag of Words (CBOW)\n",
    " - Predict target word from bag-of-words context"
   ]
  },
  {
   "cell_type": "markdown",
   "metadata": {},
   "source": [
    "Training methods:\n",
    "1. Hierarchical softmax\n",
    "2. Negative sampling"
   ]
  },
  {
   "cell_type": "markdown",
   "metadata": {},
   "source": [
    "**Objective**: maximize probability of context words in window of $m$ of current center word:  \n",
    "$J'(\\theta)=\\prod^T_{t=1}\\prod_{-m\\le j\\le m,j\\neq0}p(w_{t+j}|w_t;\\theta)$"
   ]
  },
  {
   "cell_type": "markdown",
   "metadata": {},
   "source": [
    "$J(\\theta)=-\\frac{1}{T}\\sum^T_{t=1}\\sum_{-m\\le j\\le m, j\\neq 0}logp(w_{t+j}|w_t)$"
   ]
  },
  {
   "cell_type": "markdown",
   "metadata": {},
   "source": [
    "Using softmax: $p(o|c)=\\frac{exp(u^T_0V_c)}{\\sum^V_{w=1}exp(u^T_wV_c)}$. Where:\n",
    "- $o$: outside index\n",
    "- $c$: center word\n",
    "- $V_c$: center vector of indice c\n",
    "- $u_0$: outside vector of indice o"
   ]
  },
  {
   "cell_type": "code",
   "execution_count": null,
   "metadata": {
    "collapsed": true
   },
   "outputs": [],
   "source": []
  }
 ],
 "metadata": {
  "kernelspec": {
   "display_name": "Python [conda env:bhplayground]",
   "language": "python",
   "name": "conda-env-bhplayground-py"
  },
  "language_info": {
   "codemirror_mode": {
    "name": "ipython",
    "version": 2
   },
   "file_extension": ".py",
   "mimetype": "text/x-python",
   "name": "python",
   "nbconvert_exporter": "python",
   "pygments_lexer": "ipython2",
   "version": "2.7.12"
  }
 },
 "nbformat": 4,
 "nbformat_minor": 1
}
