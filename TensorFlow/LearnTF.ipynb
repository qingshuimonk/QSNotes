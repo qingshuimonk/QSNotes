{
 "cells": [
  {
   "cell_type": "code",
   "execution_count": 1,
   "metadata": {
    "collapsed": true
   },
   "outputs": [],
   "source": [
    "import tensorflow as tf"
   ]
  },
  {
   "cell_type": "markdown",
   "metadata": {},
   "source": [
    "# Learn Tensorflow"
   ]
  },
  {
   "cell_type": "markdown",
   "metadata": {},
   "source": [
    "### What is a Tensorflow session"
   ]
  },
  {
   "cell_type": "markdown",
   "metadata": {},
   "source": [
    "The following notes come from [this blog](http://danijar.com/what-is-a-tensorflow-session/)"
   ]
  },
  {
   "cell_type": "markdown",
   "metadata": {},
   "source": [
    "Graph defines the computation, session execute graphs (or part of graph)"
   ]
  },
  {
   "cell_type": "code",
   "execution_count": 3,
   "metadata": {
    "collapsed": false
   },
   "outputs": [],
   "source": [
    "# define graph\n",
    "variable = tf.Variable(42, name='foo')\n",
    "initialize = tf.global_variables_initializer()\n",
    "assign = variable.assign(13)"
   ]
  },
  {
   "cell_type": "code",
   "execution_count": 5,
   "metadata": {
    "collapsed": false
   },
   "outputs": [
    {
     "name": "stdout",
     "output_type": "stream",
     "text": [
      "13\n"
     ]
    }
   ],
   "source": [
    "# run graph in session\n",
    "with tf.Session() as sess:\n",
    "    sess.run(initialize)\n",
    "    sess.run(assign)\n",
    "    print(sess.run(variable))"
   ]
  },
  {
   "cell_type": "markdown",
   "metadata": {},
   "source": [
    "### Constant Types"
   ]
  },
  {
   "cell_type": "markdown",
   "metadata": {},
   "source": [
    "The following notes come from Stanford CS20si"
   ]
  },
  {
   "cell_type": "code",
   "execution_count": 15,
   "metadata": {
    "collapsed": false
   },
   "outputs": [
    {
     "name": "stdout",
     "output_type": "stream",
     "text": [
      "a:\n",
      "[2 2]\n",
      "b:\n",
      "[[0 1]\n",
      " [2 3]]\n",
      "c:\n",
      "[[0 0 0]\n",
      " [0 0 0]]\n",
      "d:\n",
      "[[0 0]\n",
      " [0 0]]\n",
      "e:\n",
      "[[8 8 8]\n",
      " [8 8 8]]\n"
     ]
    }
   ],
   "source": [
    "a = tf.constant([2, 2], name='vector') # specify name (1d tensor)\n",
    "b = tf.constant([[0, 1], [2, 3]]) # 2*2 matrix \n",
    "c = tf.zeros([2, 3], tf.int32) # specify data type\n",
    "d = tf.zeros_like(b) # same shape\n",
    "e = tf.fill([2, 3], 8) # fill with same value\n",
    "with tf.Session() as sess:\n",
    "    print('a:')\n",
    "    print(sess.run(a))\n",
    "    print('b:')\n",
    "    print(sess.run(b))\n",
    "    print('c:')\n",
    "    print(sess.run(c))\n",
    "    print('d:')\n",
    "    print(sess.run(d))\n",
    "    print('e:')\n",
    "    print(sess.run(e))"
   ]
  },
  {
   "cell_type": "code",
   "execution_count": 20,
   "metadata": {
    "collapsed": true
   },
   "outputs": [],
   "source": [
    "f = tf.linspace(10.0, 13.0, 4) # lin seq\n",
    "g = tf.range(10.0, 14.0, 1) # lin seq, another way\n",
    "# PA: they are not iterable"
   ]
  },
  {
   "cell_type": "code",
   "execution_count": 21,
   "metadata": {
    "collapsed": false
   },
   "outputs": [
    {
     "name": "stdout",
     "output_type": "stream",
     "text": [
      "f:\n",
      "[ 10.  11.  12.  13.]\n",
      "g:\n",
      "[ 10.  11.  12.  13.]\n"
     ]
    }
   ],
   "source": [
    "with tf.Session() as sess:\n",
    "    print('f:')\n",
    "    print(sess.run(f))\n",
    "    print('g:')\n",
    "    print(sess.run(g))"
   ]
  },
  {
   "cell_type": "code",
   "execution_count": 27,
   "metadata": {
    "collapsed": false
   },
   "outputs": [],
   "source": [
    "h = tf.random_normal([2, 2]) # random normal\n",
    "i = tf.truncated_normal([2, 2]) # truncated normal\n",
    "j = tf.random_uniform([2, 2])\n",
    "k = tf.random_shuffle(b) # randomly shuffle tensor along 1st dimension\n",
    "l = tf.random_crop(b, [2, 1])"
   ]
  },
  {
   "cell_type": "code",
   "execution_count": 28,
   "metadata": {
    "collapsed": false
   },
   "outputs": [
    {
     "name": "stdout",
     "output_type": "stream",
     "text": [
      "h:\n",
      "[[ 0.85499239 -2.04008007]\n",
      " [-1.58856726 -0.66515911]]\n",
      "i:\n",
      "[[-0.74781948 -0.619923  ]\n",
      " [ 0.37858662  1.35265982]]\n",
      "j:\n",
      "[[ 0.74662387  0.18286121]\n",
      " [ 0.38211346  0.03005338]]\n",
      "k:\n",
      "[[2 3]\n",
      " [0 1]]\n",
      "l:\n",
      "[[0]\n",
      " [2]]\n"
     ]
    }
   ],
   "source": [
    "with tf.Session() as sess:\n",
    "    print('h:')\n",
    "    print(sess.run(h))\n",
    "    print('i:')\n",
    "    print(sess.run(i))\n",
    "    print('j:')\n",
    "    print(sess.run(j))\n",
    "    print('k:')\n",
    "    print(sess.run(k))\n",
    "    print('l:')\n",
    "    print(sess.run(l))"
   ]
  },
  {
   "cell_type": "markdown",
   "metadata": {},
   "source": [
    "### Math Operations"
   ]
  },
  {
   "cell_type": "code",
   "execution_count": 31,
   "metadata": {
    "collapsed": false
   },
   "outputs": [
    {
     "name": "stdout",
     "output_type": "stream",
     "text": [
      "a:\n",
      "[2 2]\n",
      "b:\n",
      "[[0 1]\n",
      " [2 3]]\n"
     ]
    }
   ],
   "source": [
    "with tf.Session() as sess:\n",
    "    print('a:')\n",
    "    print(sess.run(a))\n",
    "    print('b:')\n",
    "    print(sess.run(b))"
   ]
  },
  {
   "cell_type": "code",
   "execution_count": 38,
   "metadata": {
    "collapsed": false
   },
   "outputs": [
    {
     "name": "stdout",
     "output_type": "stream",
     "text": [
      "add:\n",
      "[[2 3]\n",
      " [4 5]]\n",
      "add_n:\n",
      "[[0 3]\n",
      " [6 9]]\n"
     ]
    }
   ],
   "source": [
    "with tf.Session() as sess:\n",
    "    print('add:')\n",
    "    print(sess.run(tf.add(a, b))) # elementwise add\n",
    "    print('add_n:')\n",
    "    print(sess.run(tf.add_n([b, b, b]))) # b+b+b"
   ]
  },
  {
   "cell_type": "code",
   "execution_count": 42,
   "metadata": {
    "collapsed": false
   },
   "outputs": [
    {
     "name": "stdout",
     "output_type": "stream",
     "text": [
      "mul:\n",
      "[[0 2]\n",
      " [4 6]]\n",
      "matmul\n",
      "[[4 8]]\n"
     ]
    }
   ],
   "source": [
    "with tf.Session() as sess:\n",
    "    print('mul:')\n",
    "    print(sess.run(tf.multiply(a, b))) # elementwise mul\n",
    "    print('matmul')\n",
    "    print(sess.run(tf.matmul(tf.reshape(a, shape=[1,2]), b))) # b+b+b"
   ]
  },
  {
   "cell_type": "code",
   "execution_count": 44,
   "metadata": {
    "collapsed": false
   },
   "outputs": [
    {
     "name": "stdout",
     "output_type": "stream",
     "text": [
      "div:\n",
      "[[0 0]\n",
      " [1 1]]\n",
      "mod\n",
      "[[0 1]\n",
      " [0 1]]\n"
     ]
    }
   ],
   "source": [
    "with tf.Session() as sess:\n",
    "    print('div:')\n",
    "    print(sess.run(tf.div(b, a)))\n",
    "    print('mod')\n",
    "    print(sess.run(tf.mod(b, a))) # b+b+b"
   ]
  },
  {
   "cell_type": "markdown",
   "metadata": {},
   "source": [
    "### Variables"
   ]
  },
  {
   "cell_type": "code",
   "execution_count": null,
   "metadata": {
    "collapsed": true
   },
   "outputs": [],
   "source": []
  }
 ],
 "metadata": {
  "anaconda-cloud": {},
  "kernelspec": {
   "display_name": "Python [conda env:bhplayground]",
   "language": "python",
   "name": "conda-env-bhplayground-py"
  },
  "language_info": {
   "codemirror_mode": {
    "name": "ipython",
    "version": 2
   },
   "file_extension": ".py",
   "mimetype": "text/x-python",
   "name": "python",
   "nbconvert_exporter": "python",
   "pygments_lexer": "ipython2",
   "version": "2.7.12"
  }
 },
 "nbformat": 4,
 "nbformat_minor": 1
}
